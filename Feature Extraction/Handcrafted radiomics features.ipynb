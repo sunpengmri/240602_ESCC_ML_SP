{
 "cells": [
  {
   "cell_type": "markdown",
   "metadata": {},
   "source": [
    "# step_1: feature extractions"
   ]
  },
  {
   "cell_type": "code",
   "execution_count": null,
   "metadata": {},
   "outputs": [],
   "source": [
    "import numpy as np\n",
    "import collections\n",
    "import SimpleITK as sitk\n",
    "from scipy.ndimage.interpolation import zoom\n",
    "import os,sys\n",
    "import pandas as pd\n",
    "\n",
    "from radiomics import featureextractor"
   ]
  },
  {
   "cell_type": "code",
   "execution_count": null,
   "metadata": {},
   "outputs": [],
   "source": [
    "!pwd"
   ]
  },
  {
   "cell_type": "code",
   "execution_count": null,
   "metadata": {},
   "outputs": [],
   "source": [
    "## Set GPU\n",
    "#os.environ[\"CUDA_VISIBLE_DEVICES\"]=\"0\"\n",
    "\n",
    "# Load batch file\n",
    "imgDir = '/home/peng/00_github/03_radiomics/240602_ESCC_ML_SP/example/images'\n",
    "dirlist = os.listdir(imgDir)[1:]\n",
    "print(dirlist)\n"
   ]
  },
  {
   "cell_type": "code",
   "execution_count": null,
   "metadata": {},
   "outputs": [],
   "source": [
    "# 1. define functions to read images in Nifti format \n",
    "\n",
    "# read images in Nifti format \n",
    "def loadSegArraywithID(fold,iden):\n",
    "    \n",
    "    path = fold\n",
    "    pathList = os.listdir(path)\n",
    "    \n",
    "    segPath = [os.path.join(path,i) for i in pathList if ('seg3' in i.lower()) & (iden in i.lower())][0]\n",
    "    seg = sitk.ReadImage(segPath)\n",
    "    return seg\n",
    "# read regions of interest (ROI) in Nifti format \n",
    "def loadImgArraywithID(fold,iden):\n",
    "    \n",
    "    path = fold\n",
    "    pathList = os.listdir(path)\n",
    "    \n",
    "    imgPath = [os.path.join(path,i) for i in pathList if ('im' in i.lower()) & (iden in i.lower())][0]\n",
    "    img = sitk.ReadImage(imgPath)    \n",
    "    return img\n",
    "\n",
    "# 2. Check the images and ROIs\n",
    "\n",
    "# 3. Feature Extraction\n",
    "featureDict = {}\n",
    "for ind in range(len(dirlist)):\n",
    "    path = os.path.join(imgDir,dirlist[ind])\n",
    "    \n",
    "    # you can make your own pipeline to import data, but it must be SimpleITK images\n",
    "    mask = loadSegArraywithID(path,'seg3')\n",
    "    img = loadImgArraywithID(path,'i')\n",
    "    params = '/home/peng/00_github/03_radiomics/240602_ESCC_ML_SP/Feature Extraction/Paramsescc.yaml'\n",
    "    \n",
    "    extractor =  featureextractor.RadiomicsFeatureExtractor(params)\n",
    "   \n",
    "\n",
    "    result = extractor.execute(img,mask)\n",
    "    key = list(result.keys())\n",
    "    key = key[1:] \n",
    "    \n",
    "    feature = []\n",
    "    for jind in range(len(key)):\n",
    "        feature.append(result[key[jind]])\n",
    "        \n",
    "    featureDict[dirlist[ind]] = feature\n",
    "    dictkey = key\n",
    "    print(dirlist[ind])\n",
    "    \n",
    "dataframe = pd.DataFrame.from_dict(featureDict, orient='index', columns=dictkey)\n",
    "dataframe.to_csv('/home/peng/00_github/03_radiomics/240602_ESCC_ML_SP/example/results/Features_Radiomics.csv')"
   ]
  },
  {
   "cell_type": "markdown",
   "metadata": {},
   "source": [
    "# step_2: invalid feature processing"
   ]
  },
  {
   "cell_type": "code",
   "execution_count": null,
   "metadata": {},
   "outputs": [],
   "source": [
    "# 1. mean imputation\n",
    "df.fillna(method=a.mean(),inplace=True)\n",
    "\n",
    "# 2. nn imputation\n",
    "#使用每列缺失值前面的值进行填充(按相应列填充,按照相应index前后填充)\n",
    "df.fillna(method='ffill',inplace=True)\n",
    "df.fillna(method='pad',inplace=True)\n",
    "#使用每列缺失值后面的值进行填充(按相应列填充,按照相应index前后填充)\n",
    "df.fillna(method='backfill',inplace=True)\n",
    "df.fillna(method='bfill',inplace=True)\n",
    "#使用每列缺失值前面的值进行填充(按相邻列填充,按照相应columns前后填充)\n",
    "df.fillna(method='ffill',inplace=True,axis=1)\n",
    "\n",
    "#上下两个值的平均值进行填充\n",
    "df=df.fillna(df.interpolate())\n",
    "#在此详细介绍下interpolate函数的参数：'nearest', 'zero', 'slinear', 'quadratic', 'cubic', 'spline', 'barycentric', 'polynomial'\n"
   ]
  }
 ],
 "metadata": {
  "kernelspec": {
   "display_name": "worc",
   "language": "python",
   "name": "python3"
  },
  "language_info": {
   "codemirror_mode": {
    "name": "ipython",
    "version": 3
   },
   "file_extension": ".py",
   "mimetype": "text/x-python",
   "name": "python",
   "nbconvert_exporter": "python",
   "pygments_lexer": "ipython3",
   "version": "3.1.undefined"
  }
 },
 "nbformat": 4,
 "nbformat_minor": 2
}
